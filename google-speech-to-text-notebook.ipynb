{
  "nbformat": 4,
  "nbformat_minor": 0,
  "metadata": {
    "colab": {
      "provenance": []
    },
    "kernelspec": {
      "name": "python3",
      "display_name": "Python 3"
    },
    "language_info": {
      "name": "python"
    }
  },
  "cells": [
    {
      "cell_type": "markdown",
      "source": [
        "# Installs"
      ],
      "metadata": {
        "id": "GDPc5MDbFtWj"
      }
    },
    {
      "cell_type": "code",
      "execution_count": null,
      "metadata": {
        "id": "a4U3M0Pf-YfG"
      },
      "outputs": [],
      "source": [
        "!pip install --upgrade google-cloud-speech"
      ]
    },
    {
      "cell_type": "markdown",
      "source": [
        "# Imports"
      ],
      "metadata": {
        "id": "Khtcp_yjFwuG"
      }
    },
    {
      "cell_type": "code",
      "source": [
        "import os\n",
        "import io\n",
        "from google.cloud import speech"
      ],
      "metadata": {
        "id": "PkwwG8IjFrZV"
      },
      "execution_count": null,
      "outputs": []
    },
    {
      "cell_type": "markdown",
      "source": [
        "# Variable"
      ],
      "metadata": {
        "id": "9uVO1dxpFzrr"
      }
    },
    {
      "cell_type": "code",
      "source": [
        "os.environ[\"GOOGLE_APPLICATION_CREDENTIALS\"] = \"project_credentials.json\""
      ],
      "metadata": {
        "id": "3_s18o-x-taP"
      },
      "execution_count": null,
      "outputs": []
    },
    {
      "cell_type": "code",
      "source": [
        "!echo $GOOGLE_APPLICATION_CREDENTIALS"
      ],
      "metadata": {
        "id": "5FNCEgo-_qRj"
      },
      "execution_count": null,
      "outputs": []
    },
    {
      "cell_type": "markdown",
      "source": [
        "# Generate Text"
      ],
      "metadata": {
        "id": "Blo18GuaF1DY"
      }
    },
    {
      "cell_type": "code",
      "source": [
        "def generate_text(input_file):\n",
        "\n",
        "    client = speech.SpeechClient()\n",
        "    file_name = (input_file)\n",
        "\n",
        "    with io.open(file_name, \"rb\") as audio_file:\n",
        "        content = audio_file.read()\n",
        "        audio = speech.RecognitionAudio(content=content)\n",
        "\n",
        "    config = speech.RecognitionConfig(\n",
        "        encoding=speech.RecognitionConfig.AudioEncoding.LINEAR16,\n",
        "        language_code=\"en-US\",\n",
        "        )\n",
        "\n",
        "    response = client.recognize(request={\"config\": config, \"audio\": audio})\n",
        "\n",
        "    for result in response.results:\n",
        "        print(\"Text to Speech Output : {}\".format(result.alternatives[0].transcript))\n",
        "    return 1"
      ],
      "metadata": {
        "id": "Zgy4wN8Lykyn"
      },
      "execution_count": null,
      "outputs": []
    },
    {
      "cell_type": "markdown",
      "source": [
        "# Execute"
      ],
      "metadata": {
        "id": "mQKU9uwSGEmt"
      }
    },
    {
      "cell_type": "code",
      "source": [
        "for file in os.listdir():\n",
        "    if file.endswith(\".wav\"):\n",
        "        generate_text(file)"
      ],
      "metadata": {
        "colab": {
          "base_uri": "https://localhost:8080/"
        },
        "id": "dLASa7oh_CF7",
        "outputId": "e06feb9d-7b42-4e04-c719-ea2efb59300a"
      },
      "execution_count": null,
      "outputs": [
        {
          "output_type": "stream",
          "name": "stdout",
          "text": [
            "Text to Speech Output : hello hello hello what's up\n"
          ]
        }
      ]
    },
    {
      "cell_type": "code",
      "source": [],
      "metadata": {
        "id": "j5DjPJgz_RJA"
      },
      "execution_count": null,
      "outputs": []
    }
  ]
}